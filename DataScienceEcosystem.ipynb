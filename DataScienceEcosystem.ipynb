{
 "cells": [
  {
   "cell_type": "markdown",
   "id": "04404313",
   "metadata": {},
   "source": [
    "Data Science Tools and Ecosystem"
   ]
  },
  {
   "cell_type": "markdown",
   "id": "7aa4f1a0",
   "metadata": {},
   "source": [
    "In this notebook, Data Science Tools and Ecosystem are summarized."
   ]
  },
  {
   "cell_type": "markdown",
   "id": "8001e866",
   "metadata": {},
   "source": [
    "**Objectives:\n",
    "- List popular languages for Data Science\n",
    "- List popular libraries for Data Science\n",
    "- Performed simple arithmetic expression to mutiply then add integers."
   ]
  },
  {
   "cell_type": "markdown",
   "id": "ad3ec220",
   "metadata": {},
   "source": [
    "Some of the popular languages that Data Scientists use are = [Python, R, SQL]"
   ]
  },
  {
   "cell_type": "markdown",
   "id": "6fe60f26",
   "metadata": {},
   "source": [
    "Some of the commonly used libraries used by Data Scientists include:=[Pandas, Numpy, Matplotlib]\n"
   ]
  },
  {
   "cell_type": "markdown",
   "id": "453a3b43",
   "metadata": {},
   "source": [
    "|Data Science Tools|\n",
    "|------------------|\n",
    "|Jupyter Notebook|\n",
    "|RStudio|\n",
    "|Spyder|\n",
    "\n"
   ]
  },
  {
   "cell_type": "markdown",
   "id": "5c47345a",
   "metadata": {},
   "source": [
    "### Below are a few examples of evaluating arithmetic expressions in Python"
   ]
  },
  {
   "cell_type": "code",
   "execution_count": 6,
   "id": "2af61019",
   "metadata": {},
   "outputs": [
    {
     "data": {
      "text/plain": [
       "17"
      ]
     },
     "execution_count": 6,
     "metadata": {},
     "output_type": "execute_result"
    }
   ],
   "source": [
    "#This a simple arithmetic expression to mutiply then add integers.\n",
    "(3*4)+5\n"
   ]
  },
  {
   "cell_type": "code",
   "execution_count": 5,
   "id": "435731d0",
   "metadata": {},
   "outputs": [
    {
     "data": {
      "text/plain": [
       "3.3333333333333335"
      ]
     },
     "execution_count": 5,
     "metadata": {},
     "output_type": "execute_result"
    }
   ],
   "source": [
    "#This will convert 200 minutes to hours by diving by 60\n",
    "200/60"
   ]
  },
  {
   "cell_type": "markdown",
   "id": "cfd1623c",
   "metadata": {},
   "source": [
    "**Author\n",
    "\n",
    "Ewaen Osa"
   ]
  },
  {
   "cell_type": "code",
   "execution_count": null,
   "id": "a3924136",
   "metadata": {},
   "outputs": [],
   "source": []
  }
 ],
 "metadata": {
  "kernelspec": {
   "display_name": "Python 3 (ipykernel)",
   "language": "python",
   "name": "python3"
  },
  "language_info": {
   "codemirror_mode": {
    "name": "ipython",
    "version": 3
   },
   "file_extension": ".py",
   "mimetype": "text/x-python",
   "name": "python",
   "nbconvert_exporter": "python",
   "pygments_lexer": "ipython3",
   "version": "3.11.5"
  }
 },
 "nbformat": 4,
 "nbformat_minor": 5
}
